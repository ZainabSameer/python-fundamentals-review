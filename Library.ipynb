{
 "cells": [
  {
   "cell_type": "code",
   "execution_count": 35,
   "metadata": {},
   "outputs": [
    {
     "name": "stdout",
     "output_type": "stream",
     "text": [
      "ALKHADHAR LIBRARY\n",
      "Add a New Book:\n",
      "View All Books:\n",
      "Write a Review:\n",
      "exit\n",
      "Review added\n"
     ]
    }
   ],
   "source": [
    "import csv\n",
    "\n",
    "def main_menu ():\n",
    "    print(f\"ALKHADHAR LIBRARY\")\n",
    "    print(f\"Add a New Book:\")\n",
    "    print(f\"View All Books:\")\n",
    "    print(f\"Write a Review:\")\n",
    "    print(f\"exit\")\n",
    "\n",
    "    while(True):\n",
    "        choice = input (\"Choice opation (n) to add a new book , (v) to view all books ,(w) to Write a Review , (e) to exit \")\n",
    "        if choice == 'n':\n",
    "            add_book()\n",
    "        elif choice == 'v':\n",
    "            view_books()\n",
    "        elif choice == 'w':\n",
    "            write_review()\n",
    "        elif choice == 'e':\n",
    "            break\n",
    "        else:\n",
    "            print(\"Invalid choice. Please try again\")\n",
    "\n",
    "\n",
    "\n",
    "def add_book():\n",
    "    title = input(\"Enter the title:\")\n",
    "    author = input(\"Enter the author name:\")\n",
    "\n",
    "    with open(\"books.csv\",'a') as file:\n",
    "        writer = csv.writer(file)\n",
    "        writer.writerow([title, author])\n",
    "        print(f\"Book '{title}' by {author} added to the library\")\n",
    "\n",
    "def view_books():\n",
    "    with open(\"books.csv\",'r') as file:\n",
    "        reader=csv.reader(file)\n",
    "        for row in enumerate(reader,start=1):\n",
    "            print(f\"index.{row[0]}bh {row[1]}\")\n",
    "\n",
    "def write_review():\n",
    "    title = input(\"enter the title of the bood you want to review\")\n",
    "    review = input(\"write your review\")\n",
    "\n",
    "    with open('review.csv', 'a') as file:\n",
    "        writer = csv.writer(file)\n",
    "        writer.writerow([title, review])\n",
    "        print(\"Review added\")\n",
    "\n",
    "\n",
    "\n",
    "\n",
    "main_menu()\n"
   ]
  },
  {
   "cell_type": "code",
   "execution_count": 21,
   "metadata": {},
   "outputs": [],
   "source": []
  },
  {
   "cell_type": "code",
   "execution_count": null,
   "metadata": {},
   "outputs": [],
   "source": []
  }
 ],
 "metadata": {
  "kernelspec": {
   "display_name": "base",
   "language": "python",
   "name": "python3"
  },
  "language_info": {
   "codemirror_mode": {
    "name": "ipython",
    "version": 3
   },
   "file_extension": ".py",
   "mimetype": "text/x-python",
   "name": "python",
   "nbconvert_exporter": "python",
   "pygments_lexer": "ipython3",
   "version": "3.12.7"
  }
 },
 "nbformat": 4,
 "nbformat_minor": 2
}
